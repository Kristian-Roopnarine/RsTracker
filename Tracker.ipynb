{
 "cells": [
  {
   "cell_type": "code",
   "execution_count": null,
   "metadata": {},
   "outputs": [],
   "source": [
    "import time\n",
    "import pandas as pd\n",
    "import numpy as np\n",
    "from pandas import ExcelWriter\n",
    "from pandas import ExcelFile\n",
    "import re"
   ]
  },
  {
   "cell_type": "code",
   "execution_count": null,
   "metadata": {},
   "outputs": [],
   "source": [
    "class Data:\n",
    "    def __init__(self,name,profit,day,hours,amount,method):\n",
    "        self.name= name\n",
    "        self.profit= profit\n",
    "        self.day= pd.to_datetime(day)\n",
    "        self.amount = amount\n",
    "        self.method = method\n",
    "        self.hours = hours\n",
    "        \n",
    "    def create_data_object():\n",
    "        name,profit,day,hours,amount,method = input('Name of data? '), input('How much did you make? '),input('Date of profit? '),input('How many hours did this take? '),input('What was the amount that created this profit? '),input('What type of method was this? (Bossing,Slayer,Skiling, etc)')\n",
    "        data = Data(name,profit,day,hours,amount,method)\n",
    "        return data \n",
    "    \n",
    "    def create_dict(self):\n",
    "        return dict(Name = [self.name],\n",
    "             Profit = [self.profit],\n",
    "             Day= [self.day],\n",
    "             Amount = [self.amount],\n",
    "             Method= [self.method],\n",
    "             Hours = [self.hours]\n",
    "            )       "
   ]
  },
  {
   "cell_type": "code",
   "execution_count": null,
   "metadata": {},
   "outputs": [],
   "source": [
    "def add_item():\n",
    "    data = Data.create_data_object()\n",
    "    df = pd.DataFrame(data.create_dict())\n",
    "    total_df.append(df)\n",
    "    df = pd.concat(total_df,ignore_index=True)\n",
    "    return df\n",
    "\n",
    "def sort_item(dataframe):\n",
    "    print('How would you like to search through your data?\\n1.Name\\n2.Profit\\n3.Day\\n4.Amount\\n5.Method\\n6.Hours')\n",
    "    number = int(input('Number: '))\n",
    "    sort = columns[number - 1]\n",
    "    return dataframe.set_index(sort)\n",
    "\n",
    "def edit_item(sorted_df):\n",
    "    item = input('Which item do you want to edit: ')\n",
    "    column = input('Which value do you want to edit: ')\n",
    "    new_value = input('What is the new value: ')\n",
    "    sorted_df.loc[item,column] = new_value\n",
    "    return sorted_df.reset_index()\n",
    "    \n",
    "def delete_item(sorted_df):\n",
    "    item = input('What item do you want to delete? (Input the value according to what you sorted by): ')\n",
    "    sorted_df = sorted_df.drop(item,axis=0)\n",
    "    return sorted_df.reset_index()"
   ]
  },
  {
   "cell_type": "code",
   "execution_count": null,
   "metadata": {},
   "outputs": [],
   "source": [
    "total_df = []\n",
    "columns = ['Name','Profit','Day','Amount','Method','Hours']"
   ]
  },
  {
   "cell_type": "code",
   "execution_count": null,
   "metadata": {},
   "outputs": [],
   "source": [
    "while True:\n",
    "    print(\"What would you like to do?\\n1.Add Data\\n2.Edit data\\n3.Delete data\\n4.End \")\n",
    "    answer= input(\"\")\n",
    "    if answer == '1':\n",
    "        df = add_item()\n",
    "    elif answer == '2':\n",
    "        df = sort_item(df)\n",
    "        print(df)\n",
    "        df = edit_item(df)\n",
    "    elif answer == '3':\n",
    "        df = sort_item(df)\n",
    "        print(df)\n",
    "        df = delete_item(df)\n",
    "        print(df)\n",
    "    elif answer == '4':\n",
    "        break"
   ]
  },
  {
   "cell_type": "code",
   "execution_count": null,
   "metadata": {},
   "outputs": [],
   "source": [
    "df = df.reset_index()"
   ]
  },
  {
   "cell_type": "code",
   "execution_count": null,
   "metadata": {},
   "outputs": [],
   "source": [
    "df"
   ]
  },
  {
   "cell_type": "code",
   "execution_count": null,
   "metadata": {},
   "outputs": [],
   "source": [
    "final_df"
   ]
  }
 ],
 "metadata": {
  "kernelspec": {
   "display_name": "Python 3",
   "language": "python",
   "name": "python3"
  },
  "language_info": {
   "codemirror_mode": {
    "name": "ipython",
    "version": 3
   },
   "file_extension": ".py",
   "mimetype": "text/x-python",
   "name": "python",
   "nbconvert_exporter": "python",
   "pygments_lexer": "ipython3",
   "version": "3.7.3"
  }
 },
 "nbformat": 4,
 "nbformat_minor": 2
}
